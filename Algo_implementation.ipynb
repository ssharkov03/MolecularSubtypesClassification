{
 "cells": [
  {
   "cell_type": "markdown",
   "id": "e52d9fc3-ea88-4210-a219-f53355fa6736",
   "metadata": {},
   "source": [
    "### Imports"
   ]
  },
  {
   "cell_type": "code",
   "execution_count": 4,
   "id": "5f565925-b994-4d89-a95c-4b69f119e96c",
   "metadata": {},
   "outputs": [],
   "source": [
    "import pandas as pd\n",
    "import numpy as np\n",
    "\n",
    "import pickle"
   ]
  },
  {
   "cell_type": "markdown",
   "id": "12d4cff9-8d38-4832-8c13-16227dec4be8",
   "metadata": {},
   "source": [
    "### Замечание: Модель должна быть обучена на нормализованном с помощью MinMaxScaler датасете. Это для того, чтобы после перевода miRNA в mRNA с уровнями экспрессий в промежутке [0, 1] модель смогла корректно работать."
   ]
  },
  {
   "cell_type": "markdown",
   "id": "45c11d08-2ef1-4b49-acf1-6dbce1a040b5",
   "metadata": {},
   "source": [
    "### Проверяем что все mRNA из пула генов содержатся в качестве признаков в датасете c mRNA (датасет для обучения модели). Иначе отбрасываем соответсвующие строки с mRNA в пуле генов."
   ]
  },
  {
   "cell_type": "code",
   "execution_count": 38,
   "id": "8dc2722e-ca7d-410f-adfb-d7acad9593bd",
   "metadata": {},
   "outputs": [],
   "source": [
    "with open('Saved data/X.pickle', 'rb') as input_file:\n",
    "    df = pickle.load(input_file)\n",
    "\n",
    "genes_pool = pd.read_csv(\"modified_genes_pool.csv\")"
   ]
  },
  {
   "cell_type": "code",
   "execution_count": 39,
   "id": "2052dd73-7766-4b74-b5fb-fb8075df5a78",
   "metadata": {},
   "outputs": [],
   "source": [
    "df_mRNA_s = list(df.columns)\n",
    "pool_mRNA_s = list(set(genes_pool.mrna))"
   ]
  },
  {
   "cell_type": "code",
   "execution_count": 40,
   "id": "71e6453d-68bc-4567-8c3d-3176a391be05",
   "metadata": {},
   "outputs": [],
   "source": [
    "for mRNA in pool_mRNA_s:\n",
    "    if mRNA not in df_mRNA_s:\n",
    "        genes_pool = genes_pool.loc[genes_pool['mrna'] != mRNA]\n"
   ]
  },
  {
   "cell_type": "markdown",
   "id": "c6bb26a1-b76d-4c98-9c79-cf5a4ec4b011",
   "metadata": {},
   "source": [
    "### Берем только те miRNA из пула генов, которые содержатся в качестве признаков в датасете c miRNA (input в пайплайне). Иначе отбрасываем соответсвующие строки с miRNA в пуле генов."
   ]
  },
  {
   "cell_type": "code",
   "execution_count": 74,
   "id": "6fbb7b37-b0ce-4d0c-b2fb-6ed95911c43a",
   "metadata": {},
   "outputs": [],
   "source": [
    "input_path = 'input_data.csv'\n",
    "input_df = pd.read_csv(input_path, index_col=0)"
   ]
  },
  {
   "cell_type": "code",
   "execution_count": 75,
   "id": "e02046dc-bcbe-44b9-a462-98f74f9658cf",
   "metadata": {},
   "outputs": [
    {
     "data": {
      "text/html": [
       "<div>\n",
       "<style scoped>\n",
       "    .dataframe tbody tr th:only-of-type {\n",
       "        vertical-align: middle;\n",
       "    }\n",
       "\n",
       "    .dataframe tbody tr th {\n",
       "        vertical-align: top;\n",
       "    }\n",
       "\n",
       "    .dataframe thead th {\n",
       "        text-align: right;\n",
       "    }\n",
       "</style>\n",
       "<table border=\"1\" class=\"dataframe\">\n",
       "  <thead>\n",
       "    <tr style=\"text-align: right;\">\n",
       "      <th></th>\n",
       "      <th>hsa-miR-331-3p</th>\n",
       "      <th>hsa-miR-150-5p</th>\n",
       "      <th>hsa-miR-612</th>\n",
       "      <th>hsa-miR-652-3p\\t</th>\n",
       "      <th>hsa-miR-1285-3p\\t</th>\n",
       "      <th>hsa-miR-3922-5p\\t</th>\n",
       "      <th>hsa-miR-6760-5p\\t</th>\n",
       "      <th>hsa-miR-7-5p</th>\n",
       "      <th>hsa-miR-31-5p\\t</th>\n",
       "      <th>hsa-miR-141-3p\\t</th>\n",
       "      <th>hsa-miR-10a-5p</th>\n",
       "      <th>hsa-miR-10b-5p</th>\n",
       "      <th>hsa-miR-485-5p</th>\n",
       "      <th>hsa-miR-583</th>\n",
       "      <th>hsa-miR-15b-5p</th>\n",
       "    </tr>\n",
       "  </thead>\n",
       "  <tbody>\n",
       "    <tr>\n",
       "      <th>user1</th>\n",
       "      <td>8.638829</td>\n",
       "      <td>5.382134</td>\n",
       "      <td>5.415584</td>\n",
       "      <td>5.087920</td>\n",
       "      <td>5.996549</td>\n",
       "      <td>5.352016</td>\n",
       "      <td>8.100511</td>\n",
       "      <td>5.223516</td>\n",
       "      <td>5.682623</td>\n",
       "      <td>6.598368</td>\n",
       "      <td>5.484325</td>\n",
       "      <td>5.507772</td>\n",
       "      <td>5.385737</td>\n",
       "      <td>5.400263</td>\n",
       "      <td>5.289086</td>\n",
       "    </tr>\n",
       "    <tr>\n",
       "      <th>user2</th>\n",
       "      <td>6.393672</td>\n",
       "      <td>5.618323</td>\n",
       "      <td>5.203520</td>\n",
       "      <td>6.113439</td>\n",
       "      <td>8.818824</td>\n",
       "      <td>6.227852</td>\n",
       "      <td>5.528075</td>\n",
       "      <td>5.654365</td>\n",
       "      <td>5.498968</td>\n",
       "      <td>6.491727</td>\n",
       "      <td>5.420149</td>\n",
       "      <td>5.458875</td>\n",
       "      <td>9.009982</td>\n",
       "      <td>9.431167</td>\n",
       "      <td>7.436167</td>\n",
       "    </tr>\n",
       "    <tr>\n",
       "      <th>user3</th>\n",
       "      <td>7.622139</td>\n",
       "      <td>7.877542</td>\n",
       "      <td>5.586845</td>\n",
       "      <td>5.356201</td>\n",
       "      <td>7.945687</td>\n",
       "      <td>5.272935</td>\n",
       "      <td>5.611189</td>\n",
       "      <td>5.538940</td>\n",
       "      <td>9.902776</td>\n",
       "      <td>6.230033</td>\n",
       "      <td>5.610641</td>\n",
       "      <td>7.242081</td>\n",
       "      <td>5.317966</td>\n",
       "      <td>5.767766</td>\n",
       "      <td>5.307996</td>\n",
       "    </tr>\n",
       "  </tbody>\n",
       "</table>\n",
       "</div>"
      ],
      "text/plain": [
       "       hsa-miR-331-3p  hsa-miR-150-5p  hsa-miR-612  hsa-miR-652-3p\\t  \\\n",
       "user1        8.638829        5.382134     5.415584          5.087920   \n",
       "user2        6.393672        5.618323     5.203520          6.113439   \n",
       "user3        7.622139        7.877542     5.586845          5.356201   \n",
       "\n",
       "       hsa-miR-1285-3p\\t  hsa-miR-3922-5p\\t  hsa-miR-6760-5p\\t  \\\n",
       "user1           5.996549           5.352016           8.100511   \n",
       "user2           8.818824           6.227852           5.528075   \n",
       "user3           7.945687           5.272935           5.611189   \n",
       "\n",
       "       hsa-miR-7-5p          hsa-miR-31-5p\\t  hsa-miR-141-3p\\t  \\\n",
       "user1              5.223516         5.682623          6.598368   \n",
       "user2              5.654365         5.498968          6.491727   \n",
       "user3              5.538940         9.902776          6.230033   \n",
       "\n",
       "       hsa-miR-10a-5p  hsa-miR-10b-5p  hsa-miR-485-5p  hsa-miR-583  \\\n",
       "user1        5.484325        5.507772        5.385737     5.400263   \n",
       "user2        5.420149        5.458875        9.009982     9.431167   \n",
       "user3        5.610641        7.242081        5.317966     5.767766   \n",
       "\n",
       "       hsa-miR-15b-5p  \n",
       "user1        5.289086  \n",
       "user2        7.436167  \n",
       "user3        5.307996  "
      ]
     },
     "execution_count": 75,
     "metadata": {},
     "output_type": "execute_result"
    }
   ],
   "source": [
    "input_df"
   ]
  },
  {
   "cell_type": "code",
   "execution_count": 76,
   "id": "0c14da13-1959-44b0-8cbe-c0afc5903e06",
   "metadata": {},
   "outputs": [],
   "source": [
    "input_df_miRNA_s = list(input_df.columns)\n",
    "pool_miRNA_s = list(set(genes_pool.mirna))"
   ]
  },
  {
   "cell_type": "code",
   "execution_count": 77,
   "id": "f5062143-3f05-49fe-b502-1d12509a2c8b",
   "metadata": {},
   "outputs": [],
   "source": [
    "for miRNA in pool_miRNA_s:\n",
    "    if miRNA not in input_df_miRNA_s:\n",
    "        genes_pool = genes_pool.loc[genes_pool['mirna'] != miRNA]"
   ]
  },
  {
   "cell_type": "markdown",
   "id": "26d394af-1333-4a00-a02c-ccfe30becf94",
   "metadata": {},
   "source": [
    "### Preprocessing датасета (input в пайплане) с miRNA"
   ]
  },
  {
   "cell_type": "code",
   "execution_count": 81,
   "id": "f4195f7d-5273-4f37-b8cd-18a829b0427c",
   "metadata": {},
   "outputs": [],
   "source": [
    "from sklearn.preprocessing import MinMaxScaler\n",
    "\n",
    "def preprocess_miRNA_df(df : pd.core.frame.DataFrame) -> pd.core.frame.DataFrame:\n",
    "    scaler = MinMaxScaler()\n",
    "    scaled_df = pd.DataFrame(scaler.fit_transform(df))\n",
    "    scaled_df.index = df.index\n",
    "    scaled_df.columns = df.columns\n",
    "    return scaled_df"
   ]
  },
  {
   "cell_type": "code",
   "execution_count": 84,
   "id": "0cfbae84-ae0a-4c50-b79e-67711e21bbd4",
   "metadata": {},
   "outputs": [],
   "source": [
    "input_df_scaled = preprocess_miRNA_df(input_df)"
   ]
  },
  {
   "cell_type": "markdown",
   "id": "fbd18923-9230-42de-9b70-b85981f289c5",
   "metadata": {},
   "source": [
    "### Утилиты для использования пула генов"
   ]
  },
  {
   "cell_type": "code",
   "execution_count": 64,
   "id": "f6eaaf95-c672-4056-9d3e-4da2243bda99",
   "metadata": {},
   "outputs": [],
   "source": [
    "def Get_mRNA(miRNA: str) -> list:\n",
    "    tmp = genes_pool.loc[genes_pool['mirna']  == miRNA]\n",
    "    return list(tmp.mrna)"
   ]
  },
  {
   "cell_type": "code",
   "execution_count": 65,
   "id": "49abe06f-5cc8-44b7-9775-f90e43293082",
   "metadata": {},
   "outputs": [],
   "source": [
    "def Get_miRNA(mRNA: str) -> list:\n",
    "    tmp = genes_pool.loc[genes_pool['mrna']  == mRNA]\n",
    "    return list(tmp.mirna)"
   ]
  },
  {
   "cell_type": "code",
   "execution_count": 68,
   "id": "c72339a0-097d-49af-9d31-6e76dfe4741c",
   "metadata": {},
   "outputs": [],
   "source": [
    "def Get_integration_rate(mRNA: str, miRNA: str) -> float:\n",
    "    tmp = genes_pool.loc[(genes_pool['mrna']  == mRNA) & (genes_pool['mirna'] == miRNA)]\n",
    "    return list(tmp.int_rate)[0]"
   ]
  },
  {
   "cell_type": "code",
   "execution_count": 90,
   "id": "b23b3fa3-6e4f-4ccb-93c5-ec43ddb7ac44",
   "metadata": {},
   "outputs": [],
   "source": [
    "pool_mRNA_s = list(set(genes_pool.mrna))"
   ]
  },
  {
   "cell_type": "code",
   "execution_count": 91,
   "id": "afbd6e43-7f0c-41d1-b537-b51230001990",
   "metadata": {},
   "outputs": [],
   "source": [
    "data = pd.DataFrame()\n",
    "class_weights = []\n"
   ]
  },
  {
   "cell_type": "code",
   "execution_count": 100,
   "id": "ada342f8-b59d-4789-80ba-7de568c4f277",
   "metadata": {},
   "outputs": [],
   "source": [
    "for mRNA in pool_mRNA_s:\n",
    "    corresponding_miRNA_s = Get_miRNA(mRNA)\n",
    "    best_miRNA = corresponding_miRNA_s[0]\n",
    "    for miRNA in corresponding_miRNA_s:\n",
    "        if Get_integration_rate(mRNA, miRNA) > Get_integration_rate(mRNA, best_miRNA):\n",
    "            best_miRNA = miRNA\n",
    "    data[mRNA] = input_df_scaled[best_miRNA]\n",
    "    class_weights.append(Get_integration_rate(mRNA, best_miRNA))"
   ]
  },
  {
   "cell_type": "markdown",
   "id": "0130676c-fae0-4a59-ba5e-91117de7713c",
   "metadata": {},
   "source": [
    "### miRNA to mRNA transition finished"
   ]
  },
  {
   "cell_type": "code",
   "execution_count": 101,
   "id": "a6a08785-f931-4029-8c49-b5280df06c6d",
   "metadata": {},
   "outputs": [
    {
     "data": {
      "text/html": [
       "<div>\n",
       "<style scoped>\n",
       "    .dataframe tbody tr th:only-of-type {\n",
       "        vertical-align: middle;\n",
       "    }\n",
       "\n",
       "    .dataframe tbody tr th {\n",
       "        vertical-align: top;\n",
       "    }\n",
       "\n",
       "    .dataframe thead th {\n",
       "        text-align: right;\n",
       "    }\n",
       "</style>\n",
       "<table border=\"1\" class=\"dataframe\">\n",
       "  <thead>\n",
       "    <tr style=\"text-align: right;\">\n",
       "      <th></th>\n",
       "      <th>ERBB2</th>\n",
       "      <th>GATA4</th>\n",
       "      <th>PTEN</th>\n",
       "      <th>PIK3CA</th>\n",
       "      <th>CDC42BPA</th>\n",
       "      <th>MYB</th>\n",
       "      <th>CCND1</th>\n",
       "      <th>SERPINE1</th>\n",
       "      <th>TFRC</th>\n",
       "      <th>GATA5</th>\n",
       "      <th>MUC1</th>\n",
       "      <th>TP53</th>\n",
       "      <th>TSPYL5</th>\n",
       "    </tr>\n",
       "  </thead>\n",
       "  <tbody>\n",
       "    <tr>\n",
       "      <th>user1</th>\n",
       "      <td>1.000000</td>\n",
       "      <td>0.02742</td>\n",
       "      <td>0.018356</td>\n",
       "      <td>0.02742</td>\n",
       "      <td>0.018356</td>\n",
       "      <td>0.000000</td>\n",
       "      <td>0.000000</td>\n",
       "      <td>0.02742</td>\n",
       "      <td>0.336896</td>\n",
       "      <td>0.336896</td>\n",
       "      <td>0.018356</td>\n",
       "      <td>0.00000</td>\n",
       "      <td>0.00000</td>\n",
       "    </tr>\n",
       "    <tr>\n",
       "      <th>user2</th>\n",
       "      <td>0.000000</td>\n",
       "      <td>0.00000</td>\n",
       "      <td>1.000000</td>\n",
       "      <td>0.00000</td>\n",
       "      <td>1.000000</td>\n",
       "      <td>1.000000</td>\n",
       "      <td>1.000000</td>\n",
       "      <td>0.00000</td>\n",
       "      <td>0.000000</td>\n",
       "      <td>0.000000</td>\n",
       "      <td>1.000000</td>\n",
       "      <td>0.09465</td>\n",
       "      <td>0.09465</td>\n",
       "    </tr>\n",
       "    <tr>\n",
       "      <th>user3</th>\n",
       "      <td>0.547163</td>\n",
       "      <td>1.00000</td>\n",
       "      <td>0.000000</td>\n",
       "      <td>1.00000</td>\n",
       "      <td>0.000000</td>\n",
       "      <td>0.008807</td>\n",
       "      <td>0.008807</td>\n",
       "      <td>1.00000</td>\n",
       "      <td>1.000000</td>\n",
       "      <td>1.000000</td>\n",
       "      <td>0.000000</td>\n",
       "      <td>1.00000</td>\n",
       "      <td>1.00000</td>\n",
       "    </tr>\n",
       "  </tbody>\n",
       "</table>\n",
       "</div>"
      ],
      "text/plain": [
       "          ERBB2    GATA4      PTEN   PIK3CA  CDC42BPA       MYB     CCND1  \\\n",
       "user1  1.000000  0.02742  0.018356  0.02742  0.018356  0.000000  0.000000   \n",
       "user2  0.000000  0.00000  1.000000  0.00000  1.000000  1.000000  1.000000   \n",
       "user3  0.547163  1.00000  0.000000  1.00000  0.000000  0.008807  0.008807   \n",
       "\n",
       "       SERPINE1      TFRC     GATA5      MUC1     TP53   TSPYL5  \n",
       "user1   0.02742  0.336896  0.336896  0.018356  0.00000  0.00000  \n",
       "user2   0.00000  0.000000  0.000000  1.000000  0.09465  0.09465  \n",
       "user3   1.00000  1.000000  1.000000  0.000000  1.00000  1.00000  "
      ]
     },
     "execution_count": 101,
     "metadata": {},
     "output_type": "execute_result"
    }
   ],
   "source": [
    "data"
   ]
  },
  {
   "cell_type": "code",
   "execution_count": 105,
   "id": "5019d3bb-4da3-4a93-a10e-21858c18ec79",
   "metadata": {},
   "outputs": [
    {
     "name": "stdout",
     "output_type": "stream",
     "text": [
      "ERBB2 : 0.423546126526264\n",
      "GATA4 : 0.651163663841603\n",
      "PTEN : 0.61526768782774\n",
      "PIK3CA : 0.633551258744417\n",
      "CDC42BPA : 0.572103726275568\n",
      "MYB : 0.885870164464218\n",
      "CCND1 : 0.896082604874785\n",
      "SERPINE1 : 0.611293617254197\n",
      "TFRC : 0.681634754556599\n",
      "GATA5 : 0.647914067167453\n",
      "MUC1 : 0.509062795459844\n",
      "TP53 : 0.58270914166979\n",
      "TSPYL5 : 0.471455198396602\n"
     ]
    }
   ],
   "source": [
    "for feature, weight, in zip(list(data.columns), class_weights):\n",
    "    print(f'{feature} : {weight}')"
   ]
  },
  {
   "cell_type": "code",
   "execution_count": null,
   "id": "a755e420-e7ad-4412-86b7-f895e8b107e6",
   "metadata": {},
   "outputs": [],
   "source": []
  }
 ],
 "metadata": {
  "kernelspec": {
   "display_name": "cancer",
   "language": "python",
   "name": "cancer"
  },
  "language_info": {
   "codemirror_mode": {
    "name": "ipython",
    "version": 3
   },
   "file_extension": ".py",
   "mimetype": "text/x-python",
   "name": "python",
   "nbconvert_exporter": "python",
   "pygments_lexer": "ipython3",
   "version": "3.10.0"
  }
 },
 "nbformat": 4,
 "nbformat_minor": 5
}
