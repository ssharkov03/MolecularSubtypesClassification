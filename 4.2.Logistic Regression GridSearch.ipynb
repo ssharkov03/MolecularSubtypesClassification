{
 "cells": [
  {
   "cell_type": "markdown",
   "id": "eb6175cb-2e23-42f9-919f-8ff087eaaac9",
   "metadata": {},
   "source": [
    "## Imports"
   ]
  },
  {
   "cell_type": "code",
   "execution_count": 1,
   "id": "86bb87be-0ba8-4186-8537-d517b5f96d97",
   "metadata": {},
   "outputs": [],
   "source": [
    "import warnings\n",
    "warnings.filterwarnings(\"ignore\")\n",
    "\n",
    "import pandas as pd\n",
    "import numpy as np\n",
    "import matplotlib.pyplot as plt\n",
    "import seaborn as sns\n",
    "\n",
    "import joblib\n",
    "import pickle\n",
    "\n",
    "from sklearn.metrics import classification_report\n",
    "from sklearn.linear_model import LogisticRegression\n",
    "from sklearn.model_selection import RepeatedStratifiedKFold\n",
    "from sklearn.model_selection import GridSearchCV"
   ]
  },
  {
   "cell_type": "markdown",
   "id": "f751e233-931c-4c8f-aea7-c762c688942a",
   "metadata": {},
   "source": [
    "## Export data"
   ]
  },
  {
   "cell_type": "code",
   "execution_count": 2,
   "id": "07e98408-9dce-4c08-82a3-9148a6f61b96",
   "metadata": {},
   "outputs": [],
   "source": [
    "with open('Saved data/X_train_scaled.pickle', 'rb') as data:\n",
    "    X_train_scaled = pickle.load(data)\n",
    "    \n",
    "with open('Saved data/X_test_scaled.pickle', 'rb') as data:\n",
    "    X_test_scaled = pickle.load(data)\n",
    "\n",
    "with open('Saved data/y_train.pickle', 'rb') as data:\n",
    "    y_train = pickle.load(data)\n",
    "    \n",
    "with open('Saved data/y_test.pickle', 'rb') as data:\n",
    "    y_test = pickle.load(data)\n",
    "    \n",
    "with open('Saved data/labels.pickle', 'rb') as data:\n",
    "    labels = pickle.load(data)"
   ]
  },
  {
   "cell_type": "markdown",
   "id": "559866ea-f8c0-4142-8c0c-83d2bf65b9d3",
   "metadata": {},
   "source": [
    "## LR grid search"
   ]
  },
  {
   "cell_type": "code",
   "execution_count": 4,
   "id": "2f90f6bf-00b2-4dea-95e0-4b851f4956f6",
   "metadata": {},
   "outputs": [],
   "source": [
    "model = LogisticRegression()\n",
    "cv = RepeatedStratifiedKFold(n_splits=10, n_repeats=3, random_state=1)\n",
    "space = dict()\n",
    "space['solver'] = ['newton-cg', 'lbfgs', 'saga']\n",
    "space['penalty'] = ['l2', 'elasticnet', 'l1']\n",
    "space['C'] = np.logspace(-1.5, 1.5, 5)\n",
    "space['class_weight'] = ['balanced']"
   ]
  },
  {
   "cell_type": "code",
   "execution_count": null,
   "id": "77e1ea5e-656b-43e3-a37d-e328051e2c40",
   "metadata": {},
   "outputs": [
    {
     "name": "stdout",
     "output_type": "stream",
     "text": [
      "Fitting 30 folds for each of 180 candidates, totalling 5400 fits\n"
     ]
    }
   ],
   "source": [
    "search = GridSearchCV(model, space, scoring='recall_weighted', n_jobs=-1, cv=cv, verbose=2, return_train_score=True)\n",
    "search.fit(X_train_scaled, y_train.to_numpy().flatten())\n",
    "searchPredictions = search.predict(X_test_scaled)\n",
    "print(classification_report(y_test, searchPredictions, target_names=labels))"
   ]
  },
  {
   "cell_type": "code",
   "execution_count": null,
   "id": "33768952-aed8-45ba-baea-05f3815acf48",
   "metadata": {},
   "outputs": [],
   "source": [
    "joblib.dump(search, 'Saved models & utils/LR_GridSearch2.pkl')"
   ]
  },
  {
   "cell_type": "code",
   "execution_count": null,
   "id": "e080bfd8-8a22-4a43-bef9-0876f94a5e00",
   "metadata": {},
   "outputs": [],
   "source": []
  }
 ],
 "metadata": {
  "kernelspec": {
   "display_name": "cancer",
   "language": "python",
   "name": "cancer"
  },
  "language_info": {
   "codemirror_mode": {
    "name": "ipython",
    "version": 3
   },
   "file_extension": ".py",
   "mimetype": "text/x-python",
   "name": "python",
   "nbconvert_exporter": "python",
   "pygments_lexer": "ipython3",
   "version": "3.10.0"
  }
 },
 "nbformat": 4,
 "nbformat_minor": 5
}
