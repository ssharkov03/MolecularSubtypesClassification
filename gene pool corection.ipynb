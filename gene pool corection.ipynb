{
 "cells": [
  {
   "cell_type": "code",
   "execution_count": 23,
   "id": "a5358d01-ea32-4c73-8faa-c0bb612f1093",
   "metadata": {},
   "outputs": [],
   "source": [
    "import pandas as pd\n",
    "import numpy as np"
   ]
  },
  {
   "cell_type": "code",
   "execution_count": 24,
   "id": "52e64e62-50b4-4598-bf6e-bc01ccd5afb8",
   "metadata": {},
   "outputs": [],
   "source": [
    "genes_pool = pd.read_csv('genesPool.csv')\n",
    "genes_pool.drop('тип ', axis=1, inplace=True)\n",
    "genes_pool['Ген-маркер'] = genes_pool['Ген-маркер'].apply(lambda mRNA: mRNA.strip())\n",
    "genes_pool['микроРНК'] = genes_pool['микроРНК'].apply(lambda miRNA: miRNA.strip())\n",
    "genes_pool.columns = ['mrna', 'mirna', 'int_rate']"
   ]
  },
  {
   "cell_type": "code",
   "execution_count": 25,
   "id": "634a6c63-56d7-4ea5-9a5d-74b50b0ec741",
   "metadata": {},
   "outputs": [
    {
     "data": {
      "text/html": [
       "<div>\n",
       "<style scoped>\n",
       "    .dataframe tbody tr th:only-of-type {\n",
       "        vertical-align: middle;\n",
       "    }\n",
       "\n",
       "    .dataframe tbody tr th {\n",
       "        vertical-align: top;\n",
       "    }\n",
       "\n",
       "    .dataframe thead th {\n",
       "        text-align: right;\n",
       "    }\n",
       "</style>\n",
       "<table border=\"1\" class=\"dataframe\">\n",
       "  <thead>\n",
       "    <tr style=\"text-align: right;\">\n",
       "      <th></th>\n",
       "      <th>mrna</th>\n",
       "      <th>mirna</th>\n",
       "      <th>int_rate</th>\n",
       "    </tr>\n",
       "  </thead>\n",
       "  <tbody>\n",
       "    <tr>\n",
       "      <th>0</th>\n",
       "      <td>ERBB2</td>\n",
       "      <td>hsa-miR-331-3p</td>\n",
       "      <td>0.423546</td>\n",
       "    </tr>\n",
       "    <tr>\n",
       "      <th>1</th>\n",
       "      <td>TP53</td>\n",
       "      <td>hsa-miR-150-5p</td>\n",
       "      <td>0.582709</td>\n",
       "    </tr>\n",
       "    <tr>\n",
       "      <th>2</th>\n",
       "      <td>TP53</td>\n",
       "      <td>hsa-miR-612</td>\n",
       "      <td>0.465408</td>\n",
       "    </tr>\n",
       "    <tr>\n",
       "      <th>3</th>\n",
       "      <td>TP53</td>\n",
       "      <td>hsa-miR-652-3p</td>\n",
       "      <td>0.461298</td>\n",
       "    </tr>\n",
       "    <tr>\n",
       "      <th>4</th>\n",
       "      <td>TP53</td>\n",
       "      <td>hsa-miR-1285-3p</td>\n",
       "      <td>0.434989</td>\n",
       "    </tr>\n",
       "  </tbody>\n",
       "</table>\n",
       "</div>"
      ],
      "text/plain": [
       "    mrna            mirna  int_rate\n",
       "0  ERBB2   hsa-miR-331-3p  0.423546\n",
       "1   TP53   hsa-miR-150-5p  0.582709\n",
       "2   TP53      hsa-miR-612  0.465408\n",
       "3   TP53   hsa-miR-652-3p  0.461298\n",
       "4   TP53  hsa-miR-1285-3p  0.434989"
      ]
     },
     "execution_count": 25,
     "metadata": {},
     "output_type": "execute_result"
    }
   ],
   "source": [
    "genes_pool.head()"
   ]
  },
  {
   "cell_type": "code",
   "execution_count": 28,
   "id": "8d0ff87e-4733-4e31-b6af-9e30f9b7985a",
   "metadata": {},
   "outputs": [],
   "source": [
    "genes_pool.to_csv('modified_genes_pool.csv', index=False)"
   ]
  },
  {
   "cell_type": "code",
   "execution_count": 15,
   "id": "69d30191-2828-492c-82ec-61cfd249772f",
   "metadata": {},
   "outputs": [
    {
     "data": {
      "text/plain": [
       "Index(['RERE', 'RNF165', 'CD049690', 'BC033982', 'PHF7', 'CIDEA', 'PAPD4',\n",
       "       'AI082173', 'SLC17A3', 'SDS',\n",
       "       ...\n",
       "       'BX115874', 'BX107598', 'UGCGL1', 'VPS72', 'CSMD3', 'CC2D1A',\n",
       "       'CB986545', 'IGSF9', 'DA110839', 'FAM71A'],\n",
       "      dtype='object', name='Identifier', length=24174)"
      ]
     },
     "execution_count": 15,
     "metadata": {},
     "output_type": "execute_result"
    }
   ],
   "source": [
    "gene_data.columns"
   ]
  },
  {
   "cell_type": "code",
   "execution_count": 21,
   "id": "11d88d20-b4df-4d21-baaa-5d55ec67e9da",
   "metadata": {},
   "outputs": [
    {
     "name": "stdout",
     "output_type": "stream",
     "text": [
      "GSTM3\n",
      "MS4 A7\n",
      "LPCAT1 (AYTL2)\n",
      "GATA11\n",
      "GATA9\n",
      "RAD51D\n",
      "BCL5\n",
      "KDM7A (JHDM1D)\n",
      "KMT2C\n",
      "MSANTD3\n",
      "GATA14\n",
      "PTBP3\n",
      "RAB6B\n",
      "GATA12\n",
      "CCN4 (WISP1)\n",
      "GATA13\n",
      "MKI69\n",
      "EBF4\n",
      "GATA10\n",
      "MKI68\n",
      "GATA8\n",
      "DLT (CDAN1)\n",
      "ORC6 (ORC6L)\n",
      "CHEK2 (CHK2)\n",
      "ECI2 (PECI)\n",
      "GATA7\n",
      "QSOX2 (QSCN6L1)\n",
      "BAG1\n",
      "BRIP1\n",
      "CMC2\n",
      "LGP2(DHX58)\n",
      "ADGRG6(GPR126)\n",
      "TMEM74B\n",
      "BCL4\n",
      "GATA16\n",
      "GATA15\n",
      "LPCAT1(AYTL2)\n"
     ]
    }
   ],
   "source": [
    "c = 0\n",
    "for i in set(np.array(genes_pool.mrna)):\n",
    "    if i not in list(gene_data.columns):\n",
    "        print(i)\n",
    "        c += 1"
   ]
  },
  {
   "cell_type": "code",
   "execution_count": 22,
   "id": "cfc874f1-3e02-4fd7-ae6a-99bfabb5f436",
   "metadata": {},
   "outputs": [
    {
     "data": {
      "text/plain": [
       "37"
      ]
     },
     "execution_count": 22,
     "metadata": {},
     "output_type": "execute_result"
    }
   ],
   "source": [
    "c"
   ]
  },
  {
   "cell_type": "code",
   "execution_count": 18,
   "id": "7eb21c08-12c1-4b56-a5c5-7533e4ae2bbe",
   "metadata": {},
   "outputs": [
    {
     "data": {
      "text/plain": [
       "0        ERBB2\n",
       "1         TP53\n",
       "2         TP53\n",
       "3         TP53\n",
       "4         TP53\n",
       "        ...   \n",
       "937     SEMA4D\n",
       "938    MAP3K11\n",
       "939      ABHD3\n",
       "940      GRB10\n",
       "941    CSNK2A1\n",
       "Name: mrna, Length: 942, dtype: object"
      ]
     },
     "execution_count": 18,
     "metadata": {},
     "output_type": "execute_result"
    }
   ],
   "source": [
    "genes_pool.mrna"
   ]
  },
  {
   "cell_type": "code",
   "execution_count": 20,
   "id": "5212e465-ccf1-47e3-8825-0eab74257711",
   "metadata": {},
   "outputs": [
    {
     "data": {
      "text/plain": [
       "187"
      ]
     },
     "execution_count": 20,
     "metadata": {},
     "output_type": "execute_result"
    }
   ],
   "source": [
    "len(list(set(np.array(genes_pool.mrna))))"
   ]
  },
  {
   "cell_type": "code",
   "execution_count": null,
   "id": "789e0128-5d4e-4ce8-88bc-37f3393b26ef",
   "metadata": {},
   "outputs": [],
   "source": []
  }
 ],
 "metadata": {
  "kernelspec": {
   "display_name": "cancer",
   "language": "python",
   "name": "cancer"
  },
  "language_info": {
   "codemirror_mode": {
    "name": "ipython",
    "version": 3
   },
   "file_extension": ".py",
   "mimetype": "text/x-python",
   "name": "python",
   "nbconvert_exporter": "python",
   "pygments_lexer": "ipython3",
   "version": "3.10.0"
  }
 },
 "nbformat": 4,
 "nbformat_minor": 5
}
