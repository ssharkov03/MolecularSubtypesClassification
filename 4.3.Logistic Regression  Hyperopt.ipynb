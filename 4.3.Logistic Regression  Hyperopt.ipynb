{
 "cells": [
  {
   "cell_type": "markdown",
   "id": "eb6175cb-2e23-42f9-919f-8ff087eaaac9",
   "metadata": {},
   "source": [
    "## Imports"
   ]
  },
  {
   "cell_type": "code",
   "execution_count": 3,
   "id": "c0bbbc47-bf87-48fd-a2c1-967d57ca2fcc",
   "metadata": {},
   "outputs": [],
   "source": [
    "# !pip install hyperopt\n",
    "\n",
    "import warnings\n",
    "warnings.filterwarnings(\"ignore\")\n",
    "\n",
    "from functools import partial\n",
    "import numpy as np\n",
    "import pandas as pd\n",
    "import seaborn as sns\n",
    "import matplotlib.pyplot as plt\n",
    "%matplotlib inline\n",
    "\n",
    "import joblib\n",
    "import pickle\n",
    "\n",
    "from sklearn.model_selection import cross_val_score, StratifiedKFold\n",
    "from sklearn.metrics import classification_report\n",
    "from sklearn.linear_model import LogisticRegression\n",
    "from sklearn.preprocessing import StandardScaler, OneHotEncoder\n",
    "from sklearn.pipeline import Pipeline\n",
    "from sklearn.impute import SimpleImputer\n",
    "from sklearn.compose import ColumnTransformer\n",
    "from hyperopt import hp, fmin, tpe, Trials, STATUS_OK"
   ]
  },
  {
   "cell_type": "code",
   "execution_count": 4,
   "id": "009fad74-3314-4624-90b6-e2a446a9cdb9",
   "metadata": {},
   "outputs": [],
   "source": [
    "with open('Saved data/X_train.pickle', 'rb') as data:\n",
    "    X_train = pickle.load(data)\n",
    "    \n",
    "with open('Saved data/X_test.pickle', 'rb') as data:\n",
    "    X_test = pickle.load(data)\n",
    "\n",
    "with open('Saved data/X_train_scaled.pickle', 'rb') as data:\n",
    "    X_train_scaled = pickle.load(data)\n",
    "    \n",
    "with open('Saved data/X_test_scaled.pickle', 'rb') as data:\n",
    "    X_test_scaled = pickle.load(data)\n",
    "    \n",
    "with open('Saved data/X_train_pca.pickle', 'rb') as data:\n",
    "    X_train_pca = pickle.load(data)\n",
    "    \n",
    "with open('Saved data/X_test_pca.pickle', 'rb') as data:\n",
    "    X_test_pca = pickle.load(data)\n",
    "    \n",
    "with open('Saved data/X_train_autoencoder.pickle', 'rb') as data:\n",
    "    X_train_autoencoder = pickle.load(data)\n",
    "    \n",
    "with open('Saved data/X_test_autoencoder.pickle', 'rb') as data:\n",
    "    X_test_autoencoder = pickle.load(data)\n",
    "    \n",
    "with open('Saved data/y_train.pickle', 'rb') as data:\n",
    "    y_train = pickle.load(data)\n",
    "    \n",
    "with open('Saved data/y_test.pickle', 'rb') as data:\n",
    "    y_test = pickle.load(data)\n",
    "    \n",
    "with open('Saved data/labels.pickle', 'rb') as data:\n",
    "    labels = pickle.load(data)"
   ]
  },
  {
   "cell_type": "code",
   "execution_count": 5,
   "id": "95d418d5-e1bc-4012-b09d-f4e65942af6f",
   "metadata": {},
   "outputs": [],
   "source": [
    "num_pipe = Pipeline([('scaler', StandardScaler())])\n",
    "transformer = num_pipe"
   ]
  },
  {
   "cell_type": "code",
   "execution_count": 6,
   "id": "1fa52a35-f82c-4ff8-98cc-3b66f2fe4b77",
   "metadata": {},
   "outputs": [],
   "source": [
    "model = Pipeline([('transformer', transformer),\n",
    "                  ('lr', LogisticRegression(random_state=1, n_jobs=-1, max_iter=2000, solver='saga'))])"
   ]
  },
  {
   "cell_type": "code",
   "execution_count": 7,
   "id": "992d3181-03bb-48ba-8e7e-7e744ec15ecc",
   "metadata": {},
   "outputs": [],
   "source": [
    "search_space = {\n",
    "                'lr__penalty' : hp.choice(label='penalty', \n",
    "                          options=['l2', 'l1']),\n",
    "                'lr__C' : hp.loguniform(label='C', \n",
    "                        low=-4*np.log(10), \n",
    "                        high=2*np.log(10))\n",
    "                }"
   ]
  },
  {
   "cell_type": "code",
   "execution_count": 8,
   "id": "196cc83c-734e-4e46-a591-1e03ed7f13d8",
   "metadata": {},
   "outputs": [],
   "source": [
    "def objective(params, pipeline,  X_train, y_train):\n",
    "    \"\"\"\n",
    "    Кросс-валидация с текущими гиперпараметрами\n",
    "\n",
    "    :params: гиперпараметры\n",
    "    :pipeline: модель\n",
    "    :X_train: матрица признаков\n",
    "    :y_train: вектор меток объектов\n",
    "    :return: средняя точность на кросс-валидации\n",
    "    \"\"\" \n",
    "\n",
    "    # задаём модели требуемые параметры    \n",
    "    pipeline.set_params(**params)\n",
    "\n",
    "    # задаём параметры кросс-валидации (стратифицированная 4-фолдовая с перемешиванием)\n",
    "    skf = StratifiedKFold(n_splits=3, shuffle=True, random_state=1)\n",
    "\n",
    "    # проводим кросс-валидацию  \n",
    "    score = cross_val_score(estimator=pipeline, X=X_train, y=y_train, cv=skf, n_jobs=-1, scoring='recall_macro')\n",
    "\n",
    "    # возвращаем результаты, которые записываются в Trials()\n",
    "    return   {'loss': -score.mean(), 'params': params, 'status': STATUS_OK}"
   ]
  },
  {
   "cell_type": "code",
   "execution_count": 9,
   "id": "a6b02cf5-4b36-4a7a-87f7-ce12dd4ba76d",
   "metadata": {},
   "outputs": [
    {
     "name": "stdout",
     "output_type": "stream",
     "text": [
      "100%|█████████████████████████████████████████████| 5/5 [1:32:28<00:00, 1109.74s/trial, best loss: -0.8446217940341736]\n"
     ]
    }
   ],
   "source": [
    "# запускаем hyperopt\n",
    "trials = Trials()\n",
    "best = fmin( \n",
    "          # функция для оптимизации  \n",
    "            fn=partial(objective, pipeline=model, X_train=X_train, y_train=y_train),\n",
    "          # пространство поиска гиперпараметров  \n",
    "            space=search_space,\n",
    "          # алгоритм поиска\n",
    "            algo=tpe.suggest,\n",
    "          # число итераций \n",
    "          # (можно ещё указать и время поиска) \n",
    "            max_evals=5,\n",
    "          # куда сохранять историю поиска\n",
    "            trials=trials,\n",
    "          # random state\n",
    "            rstate=np.random.default_rng(1),\n",
    "          # progressbar\n",
    "            show_progressbar=True\n",
    "        )\n"
   ]
  },
  {
   "cell_type": "code",
   "execution_count": 13,
   "id": "e3208ab9-3f2f-494b-9fe3-bd55ecb6be1f",
   "metadata": {},
   "outputs": [
    {
     "data": {
      "image/png": "[encoded data removed]",
      "text/plain": [
       "<Figure size 576x576 with 1 Axes>"
      ]
     },
     "metadata": {
      "needs_background": "light"
     },
     "output_type": "display_data"
    }
   ],
   "source": [
    "def df_results(hp_results):\n",
    "    \"\"\"\n",
    "    Отображаем результаты hyperopt в формате DataFrame \n",
    "\n",
    "    :hp_results: результаты hyperop\n",
    "    :return: pandas DataFrame\n",
    "    \"\"\" \n",
    "\n",
    "    results = pd.DataFrame([{**x, **x['params']} for x in  hp_results])\n",
    "    results.drop(labels=['status'],axis=1, inplace=True)\n",
    "    results['loss'] = results['loss'].apply(lambda x: -x)\n",
    "    results.sort_values(by=['loss'], ascending=True, inplace=True)\n",
    "    results['score'] = results['loss']\n",
    "    results.drop('loss', axis=1, inplace=True)\n",
    "    return results\n",
    "\n",
    "results = df_results(trials.results)\n",
    "sns.set_context(\"talk\")\n",
    "plt.figure(figsize=(8, 8))\n",
    "ax = sns.scatterplot(x='lr__C', y='score', hue='lr__penalty', data=results);\n",
    "ax.set_xscale('log')\n",
    "ax.set_xlim(1e-4, 2e2)\n",
    "ax.grid()\n"
   ]
  },
  {
   "cell_type": "code",
   "execution_count": 15,
   "id": "bfda081a-6849-4cb3-a9f9-be89169c7eeb",
   "metadata": {},
   "outputs": [
    {
     "data": {
      "text/plain": [
       "0.8446217940341736"
      ]
     },
     "execution_count": 15,
     "metadata": {},
     "output_type": "execute_result"
    }
   ],
   "source": [
    "results[::-1]['score'].iloc[0] # best recall score while training"
   ]
  },
  {
   "cell_type": "code",
   "execution_count": 18,
   "id": "700d799c-6610-493b-8ad4-8dcd4e325396",
   "metadata": {},
   "outputs": [
    {
     "data": {
      "text/plain": [
       "{'lr__C': 0.38185592693331355, 'lr__penalty': 'l1'}"
      ]
     },
     "execution_count": 18,
     "metadata": {},
     "output_type": "execute_result"
    }
   ],
   "source": [
    "results[::-1]['params'].iloc[0]  # best params"
   ]
  },
  {
   "cell_type": "code",
   "execution_count": 7,
   "id": "4807eb5d-7289-461e-bedc-6649c97d2b9d",
   "metadata": {},
   "outputs": [
    {
     "name": "stdout",
     "output_type": "stream",
     "text": [
      "              precision    recall  f1-score   support\n",
      "\n",
      "       Basal       0.95      1.00      0.97        19\n",
      "        Her2       0.82      0.86      0.84        21\n",
      "        LumA       0.96      0.94      0.95        69\n",
      "        LumB       0.89      0.87      0.88        47\n",
      "\n",
      "    accuracy                           0.92       156\n",
      "   macro avg       0.90      0.92      0.91       156\n",
      "weighted avg       0.92      0.92      0.92       156\n",
      "\n"
     ]
    }
   ],
   "source": [
    "lr = LogisticRegression(C=0.38185592693331355, penalty='l1', solver='saga')\n",
    "lr.fit(X_train_scaled, y_train)\n",
    "pred = lr.predict(X_test_scaled)\n",
    "print(classification_report(pred, y_test, target_names=labels))"
   ]
  },
  {
   "cell_type": "code",
   "execution_count": 5,
   "id": "e5dfcc02-3cfa-4465-9853-49cb8e9d15d1",
   "metadata": {},
   "outputs": [
    {
     "data": {
      "text/plain": [
       "['LR_Hyperopt.pkl']"
      ]
     },
     "execution_count": 5,
     "metadata": {},
     "output_type": "execute_result"
    }
   ],
   "source": [
    "joblib.dump(lr, 'Saved models & utils/LR_Hyperopt.pkl')"
   ]
  }
 ],
 "metadata": {
  "kernelspec": {
   "display_name": "cancer",
   "language": "python",
   "name": "cancer"
  },
  "language_info": {
   "codemirror_mode": {
    "name": "ipython",
    "version": 3
   },
   "file_extension": ".py",
   "mimetype": "text/x-python",
   "name": "python",
   "nbconvert_exporter": "python",
   "pygments_lexer": "ipython3",
   "version": "3.10.0"
  }
 },
 "nbformat": 4,
 "nbformat_minor": 5
}
